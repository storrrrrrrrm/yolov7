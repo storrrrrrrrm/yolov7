{
 "cells": [
  {
   "cell_type": "code",
   "execution_count": 2,
   "metadata": {},
   "outputs": [
    {
     "name": "stderr",
     "output_type": "stream",
     "text": [
      "/home/autocore/.local/lib/python3.10/site-packages/tqdm/auto.py:21: TqdmWarning: IProgress not found. Please update jupyter and ipywidgets. See https://ipywidgets.readthedocs.io/en/stable/user_install.html\n",
      "  from .autonotebook import tqdm as notebook_tqdm\n"
     ]
    },
    {
     "data": {
      "text/plain": [
       "tensor(1)"
      ]
     },
     "execution_count": 2,
     "metadata": {},
     "output_type": "execute_result"
    }
   ],
   "source": [
    "import numpy as np\n",
    "import torch\n",
    "mask = torch.zeros((736,1280))\n",
    "mask[0,1]=1\n",
    "(mask==1).sum()"
   ]
  },
  {
   "cell_type": "code",
   "execution_count": 11,
   "metadata": {},
   "outputs": [],
   "source": [
    "\n",
    "import numpy as np\n",
    "# 创建一个shape为(1280,736,3)的值在0-255之间的ndarray\n",
    "img = np.random.randint(0, 256, size=(1280, 736, 3))\n",
    "\n",
    "# h_idx,w_idx = np.where(( img == (0,0,64) | img == (1,2,3)).all(axis=2))\n",
    "h_idx,w_idx = np.where(((img == (0,0,64)) | (img == (1,2,3))).all(axis=2))\n"
   ]
  },
  {
   "cell_type": "code",
   "execution_count": 4,
   "metadata": {},
   "outputs": [
    {
     "name": "stdout",
     "output_type": "stream",
     "text": [
      "tensor(0.9408, device='cuda:0')\n"
     ]
    }
   ],
   "source": [
    "import torch\n",
    "import torch.nn as nn\n",
    "device = torch.device(\"cuda:0\" if torch.cuda.is_available() else \"cpu\")\n",
    "criterion = nn.BCEWithLogitsLoss(pos_weight=torch.tensor([1.0, 1.5, 1.5],device=device))\n",
    "\n",
    "prediction = torch.randn(4,1280, 736, 3).to(device=device) # height = 1280, width = 736, channel = 3\n",
    "gt = torch.empty(4,1280, 736, 3).random_(2).to(device=device) # ground truth with 0/1 values\n",
    "loss = criterion(prediction, gt)\n",
    "print(loss)\n"
   ]
  },
  {
   "cell_type": "code",
   "execution_count": 2,
   "metadata": {},
   "outputs": [
    {
     "data": {
      "text/plain": [
       "'0.99'"
      ]
     },
     "execution_count": 2,
     "metadata": {},
     "output_type": "execute_result"
    }
   ],
   "source": [
    "dice = 0.98765\n",
    "name = '{:.2f}'.format(dice)\n",
    "name"
   ]
  },
  {
   "cell_type": "code",
   "execution_count": 7,
   "metadata": {},
   "outputs": [
    {
     "name": "stdout",
     "output_type": "stream",
     "text": [
      "[0, 0, 0, 0, 0, 0]\n"
     ]
    }
   ],
   "source": [
    "COLOR_MAP = {\n",
    "    'white_solid' : (0,0,128),\n",
    "    'white_dotted' : (0,128,0),\n",
    "    'forward_arrow' : (128,0,128),\n",
    "    'diversion_line' : (0,128,64),\n",
    "    'other_arrow' : (0,0,64),\n",
    "    'right_arrow' : (128,128,128)\n",
    "}\n",
    "\n",
    "cls_names = [k for k in COLOR_MAP.keys()]\n",
    "cls_names\n",
    "\n",
    "cls_exist = [0] * len(cls_names)\n",
    "print(cls_exist)"
   ]
  },
  {
   "cell_type": "code",
   "execution_count": 12,
   "metadata": {},
   "outputs": [
    {
     "name": "stdout",
     "output_type": "stream",
     "text": [
      "/mnt/data/public_datasets/banqiao/banqiao_lane_seg/Label/SegmentationClassPNG/1681827548_809503284.png\n",
      "\n",
      "/mnt/data/public_datasets/banqiao/banqiao_lane_seg/Label/SegmentationClassPNG/1681827549_342836212.png\n",
      "\n",
      "/mnt/data/public_datasets/banqiao/banqiao_lane_seg/Label/SegmentationClassPNG/1681827550_109502388.png\n",
      "\n",
      "/mnt/data/public_datasets/banqiao/banqiao_lane_seg/Label/SegmentationClassPNG/1681827551_76168468.png\n",
      "\n",
      "/mnt/data/public_datasets/banqiao/banqiao_lane_seg/Label/SegmentationClassPNG/1681827552_109501044.png\n",
      "\n",
      "/mnt/data/public_datasets/banqiao/banqiao_lane_seg/Label/SegmentationClassPNG/1681827553_9500596.png\n",
      "\n",
      "/mnt/data/public_datasets/banqiao/banqiao_lane_seg/Label/SegmentationClassPNG/1681827554_76166420.png\n",
      "\n",
      "/mnt/data/public_datasets/banqiao/banqiao_lane_seg/Label/SegmentationClassPNG/1681827555_9499252.png\n",
      "\n",
      "/mnt/data/public_datasets/banqiao/banqiao_lane_seg/Label/SegmentationClassPNG/1681827556_42831956.png\n",
      "\n",
      "/mnt/data/public_datasets/banqiao/banqiao_lane_seg/Label/SegmentationClassPNG/1681827557_42831316.png\n",
      "\n",
      "/mnt/data/public_datasets/banqiao/banqiao_lane_seg/Label/SegmentationClassPNG/1681827558_76163924.png\n",
      "\n",
      "/mnt/data/public_datasets/banqiao/banqiao_lane_seg/Label/SegmentationClassPNG/1681827559_9496756.png\n",
      "\n",
      "/mnt/data/public_datasets/banqiao/banqiao_lane_seg/Label/SegmentationClassPNG/1681827560_42829524.png\n",
      "\n",
      "/mnt/data/public_datasets/banqiao/banqiao_lane_seg/Label/SegmentationClassPNG/1681827561_42828820.png\n",
      "\n",
      "/mnt/data/public_datasets/banqiao/banqiao_lane_seg/Label/SegmentationClassPNG/1681827562_42828308.png\n",
      "\n",
      "/mnt/data/public_datasets/banqiao/banqiao_lane_seg/Label/SegmentationClassPNG/1681827563_42827476.png\n",
      "\n",
      "/mnt/data/public_datasets/banqiao/banqiao_lane_seg/Label/SegmentationClassPNG/1681827564_9493556.png\n",
      "\n",
      "/mnt/data/public_datasets/banqiao/banqiao_lane_seg/Label/SegmentationClassPNG/1681827565_76159380.png\n",
      "\n",
      "/mnt/data/public_datasets/banqiao/banqiao_lane_seg/Label/SegmentationClassPNG/1681827566_9492372.png\n",
      "\n",
      "/mnt/data/public_datasets/banqiao/banqiao_lane_seg/Label/SegmentationClassPNG/1681827567_42824980.png\n",
      "\n",
      "/mnt/data/public_datasets/banqiao/banqiao_lane_seg/Label/SegmentationClassPNG/1681827568_9490836.png\n",
      "\n",
      "/mnt/data/public_datasets/banqiao/banqiao_lane_seg/Label/SegmentationClassPNG/1681827569_76156852.png\n",
      "\n",
      "/mnt/data/public_datasets/banqiao/banqiao_lane_seg/Label/SegmentationClassPNG/1681827576_376152116.png\n",
      "\n",
      "/mnt/data/public_datasets/banqiao/banqiao_lane_seg/Label/SegmentationClassPNG/1681827577_76151732.png\n",
      "\n",
      "/mnt/data/public_datasets/banqiao/banqiao_lane_seg/Label/SegmentationClassPNG/1681827578_42817940.png\n",
      "\n",
      "/mnt/data/public_datasets/banqiao/banqiao_lane_seg/Label/SegmentationClassPNG/1681827579_76150420.png\n",
      "\n",
      "/mnt/data/public_datasets/banqiao/banqiao_lane_seg/Label/SegmentationClassPNG/1681827580_42816692.png\n",
      "\n",
      "/mnt/data/public_datasets/banqiao/banqiao_lane_seg/Label/SegmentationClassPNG/1681827581_42816116.png\n",
      "\n",
      "/mnt/data/public_datasets/banqiao/banqiao_lane_seg/Label/SegmentationClassPNG/1681827582_42815540.png\n",
      "\n",
      "/mnt/data/public_datasets/banqiao/banqiao_lane_seg/Label/SegmentationClassPNG/1681827583_42814708.png\n",
      "\n",
      "/mnt/data/public_datasets/banqiao/banqiao_lane_seg/Label/SegmentationClassPNG/1681827584_9480724.png\n",
      "\n",
      "/mnt/data/public_datasets/banqiao/banqiao_lane_seg/Label/SegmentationClassPNG/1681827585_42813492.png\n",
      "\n",
      "/mnt/data/public_datasets/banqiao/banqiao_lane_seg/Label/SegmentationClassPNG/1681827586_9479476.png\n",
      "\n",
      "/mnt/data/public_datasets/banqiao/banqiao_lane_seg/Label/SegmentationClassPNG/1681827639_276169076.png\n",
      "\n",
      "/mnt/data/public_datasets/banqiao/banqiao_lane_seg/Label/SegmentationClassPNG/1681827640_109501876.png\n",
      "\n",
      "/mnt/data/public_datasets/banqiao/banqiao_lane_seg/Label/SegmentationClassPNG/1681827642_42834196.png\n",
      "\n",
      "/mnt/data/public_datasets/banqiao/banqiao_lane_seg/Label/SegmentationClassPNG/1681827643_9500084.png\n",
      "\n",
      "/mnt/data/public_datasets/banqiao/banqiao_lane_seg/Label/SegmentationClassPNG/1681827644_9499508.png\n",
      "\n",
      "/mnt/data/public_datasets/banqiao/banqiao_lane_seg/Label/SegmentationClassPNG/1681827645_42832212.png\n",
      "\n",
      "/mnt/data/public_datasets/banqiao/banqiao_lane_seg/Label/SegmentationClassPNG/1681827646_76164756.png\n",
      "\n",
      "/mnt/data/public_datasets/banqiao/banqiao_lane_seg/Label/SegmentationClassPNG/1681827647_76163988.png\n",
      "\n",
      "/mnt/data/public_datasets/banqiao/banqiao_lane_seg/Label/SegmentationClassPNG/1681827648_9496820.png\n",
      "\n",
      "/mnt/data/public_datasets/banqiao/banqiao_lane_seg/Label/SegmentationClassPNG/1681827649_42829588.png\n",
      "\n",
      "/mnt/data/public_datasets/banqiao/banqiao_lane_seg/Label/SegmentationClassPNG/1681827650_42828980.png\n",
      "\n",
      "/mnt/data/public_datasets/banqiao/banqiao_lane_seg/Label/SegmentationClassPNG/1681827651_42828244.png\n",
      "\n",
      "/mnt/data/public_datasets/banqiao/banqiao_lane_seg/Label/SegmentationClassPNG/1681827652_76160820.png\n",
      "\n",
      "/mnt/data/public_datasets/banqiao/banqiao_lane_seg/Label/SegmentationClassPNG/1681827653_42827124.png\n",
      "\n",
      "/mnt/data/public_datasets/banqiao/banqiao_lane_seg/Label/SegmentationClassPNG/1681827654_76159508.png\n",
      "\n",
      "/mnt/data/public_datasets/banqiao/banqiao_lane_seg/Label/SegmentationClassPNG/1681827655_9492340.png\n",
      "\n",
      "/mnt/data/public_datasets/banqiao/banqiao_lane_seg/Label/SegmentationClassPNG/1681827656_76158228.png\n",
      "\n",
      "/mnt/data/public_datasets/banqiao/banqiao_lane_seg/Label/SegmentationClassPNG/1681827657_9491124.png\n",
      "\n",
      "/mnt/data/public_datasets/banqiao/banqiao_lane_seg/Label/SegmentationClassPNG/1681827658_42823828.png\n",
      "\n",
      "/mnt/data/public_datasets/banqiao/banqiao_lane_seg/Label/SegmentationClassPNG/1681827659_42823188.png\n",
      "\n",
      "/mnt/data/public_datasets/banqiao/banqiao_lane_seg/Label/SegmentationClassPNG/1681827660_9489204.png\n",
      "\n",
      "/mnt/data/public_datasets/banqiao/banqiao_lane_seg/Label/SegmentationClassPNG/1681827661_76155028.png\n",
      "\n",
      "/mnt/data/public_datasets/banqiao/banqiao_lane_seg/Label/SegmentationClassPNG/1681827661_76155028.png\n",
      "\n",
      "/mnt/data/public_datasets/banqiao/banqiao_lane_seg/Label/SegmentationClassPNG/1681827661_76155028.png\n",
      "\n",
      "/mnt/data/public_datasets/banqiao/banqiao_lane_seg/Label/SegmentationClassPNG/1681827661_76155028.png\n",
      "\n",
      "/mnt/data/public_datasets/banqiao/banqiao_lane_seg/Label/SegmentationClassPNG/1684228583_251883973.png\n",
      "\n",
      "/mnt/data/public_datasets/banqiao/banqiao_lane_seg/Label/SegmentationClassPNG/1684228583_251883973.png\n",
      "\n",
      "/mnt/data/public_datasets/banqiao/banqiao_lane_seg/Label/SegmentationClassPNG/1684228583_251883973.png\n",
      "\n",
      "/mnt/data/public_datasets/banqiao/banqiao_lane_seg/Label/SegmentationClassPNG/1684228583_251883973.png\n",
      "\n",
      "/mnt/data/public_datasets/banqiao/banqiao_lane_seg/Label/SegmentationClassPNG/1684228574_718555333.png\n",
      "\n",
      "/mnt/data/public_datasets/banqiao/banqiao_lane_seg/Label/SegmentationClassPNG/1684228574_718555333.png\n",
      "\n",
      "/mnt/data/public_datasets/banqiao/banqiao_lane_seg/Label/SegmentationClassPNG/1684228574_718555333.png\n"
     ]
    }
   ],
   "source": [
    "def imgpath2labelpath(img_path):\n",
    "    label_path = img_path.replace('Image','Label/SegmentationClassPNG')\n",
    "    return label_path\n",
    "\n",
    "def analysis_traindataset(traintxt_path):\n",
    "    with open(traintxt_path) as f:\n",
    "        for trainpath in f.readlines():\n",
    "            label_path = imgpath2labelpath(trainpath)\n",
    "            print(label_path)\n",
    "\n",
    "analysis_traindataset('/mnt/data/sc/yolov7/banqiao/banqiao_lane_seg.txt')"
   ]
  },
  {
   "cell_type": "code",
   "execution_count": 4,
   "metadata": {},
   "outputs": [
    {
     "name": "stdout",
     "output_type": "stream",
     "text": [
      "  100,99.89,99.78,\n"
     ]
    },
    {
     "data": {
      "text/plain": [
       "'  100,99.89,99.78,'"
      ]
     },
     "execution_count": 4,
     "metadata": {},
     "output_type": "execute_result"
    }
   ],
   "source": [
    "cls_pos_weight=[99.999,99.888,99.777]\n",
    "pos_weight_s=\"\"\n",
    "for pos_weight in cls_pos_weight:\n",
    "    pos_weight_s = pos_weight_s + ('%5.4g,') % (pos_weight)\n",
    "print(pos_weight_s)\n",
    "\n",
    "('%10s') % pos_weight_s\n",
    "                        "
   ]
  },
  {
   "cell_type": "code",
   "execution_count": null,
   "metadata": {},
   "outputs": [],
   "source": []
  }
 ],
 "metadata": {
  "interpreter": {
   "hash": "9d70f5100987b074e8dc9eb4f3c7c457ea9ecb9ceb169ecfd193f7306709dc87"
  },
  "kernelspec": {
   "display_name": "Python 3.7.6 ('base')",
   "language": "python",
   "name": "python3"
  },
  "language_info": {
   "codemirror_mode": {
    "name": "ipython",
    "version": 3
   },
   "file_extension": ".py",
   "mimetype": "text/x-python",
   "name": "python",
   "nbconvert_exporter": "python",
   "pygments_lexer": "ipython3",
   "version": "3.10.12"
  },
  "orig_nbformat": 4
 },
 "nbformat": 4,
 "nbformat_minor": 2
}
