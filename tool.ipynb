{
 "cells": [
  {
   "cell_type": "code",
   "execution_count": 35,
   "metadata": {},
   "outputs": [
    {
     "name": "stdout",
     "output_type": "stream",
     "text": [
      "letter_label_img:(640, 640, 3),h_idx:13,w_idx:13\n",
      "h_idx:[393 398 400 403 403 407 407 407 408 408 409 409 409],w_idx:[308 304 303 301 302 298 299 300 298 299 297 298 299]\n",
      "h_idx:[-394 -399 -401 -404 -404 -408 -408 -408 -409 -409 -410 -410 -410],w_idx:[-309 -305 -304 -302 -303 -299 -300 -301 -299 -300 -298 -299 -300]\n",
      "lane_labels_out[1,0,0]:1.0\n"
     ]
    }
   ],
   "source": [
    "import cv2\n",
    "import torch\n",
    "img = cv2.imread('/home/autocore/work_sc/datasets/apollo_lane_mark_example/road02/ColorImage/Record001/Camera 5/170927_063853323_Camera_5.jpg')\n",
    "lane_labels_out = torch.zeros((2, 640,640)) #构建一个二分类 chw\n",
    "lane_labels_out.permute(1,2,0)\n",
    "\n",
    "gray_label_img = cv2.imread('./gray_label_img.png')\n",
    "# print(gray_label_img)\n",
    "\n",
    "import numpy as np\n",
    "letter_label_img = cv2.imread('./label_img.png')\n",
    "lane_labels_out = torch.zeros((2, 640,640)) #构建一个二分类 chw\n",
    "lane_labels_out[1,...] = 1.\n",
    "LANE_COLOR = [(8,35,142)]\n",
    "for color in LANE_COLOR:\n",
    "    h_idx,w_idx = np.where((letter_label_img == color).all(axis=2)) \n",
    "    print('letter_label_img:{},h_idx:{},w_idx:{}'.format(letter_label_img.shape,len(h_idx),len(w_idx)))\n",
    "    print('h_idx:{},w_idx:{}'.format(h_idx,w_idx))\n",
    "    lane_labels_out[0,h_idx,w_idx] = 1 #车道线像素1-0分布\n",
    "    lane_labels_out[1,h_idx,w_idx] = 0 #非车道线像素0-1分布\n",
    "\n",
    "print('h_idx:{},w_idx:{}'.format(~h_idx,~w_idx))\n",
    "print('lane_labels_out[1,0,0]:{}'.format(lane_labels_out[1,0,0]))\n",
    "\n",
    "# origin_label_img = cv2.imread('/home/autocore/work_sc/datasets/apollo_lane_mark_example/road02/Label/Record001/Camera 5/170927_063853323_Camera_5_bin.png')\n",
    "# # print(origin_img[1581,1817,:])\n",
    "# # print(origin_img[1817,1581,:]) #bgr\n",
    "# LANE_COLOR = [(8,35,142)]\n",
    "# for color in LANE_COLOR:\n",
    "#     h_idx,w_idx = np.where((origin_label_img == color).all(axis=2)) \n",
    "#     print('origin_label_img:{},h_idx:{},w_idx:{}'.format(origin_label_img.shape,len(h_idx),len(w_idx)))"
   ]
  },
  {
   "cell_type": "code",
   "execution_count": 55,
   "metadata": {},
   "outputs": [
    {
     "name": "stdout",
     "output_type": "stream",
     "text": [
      "[]\n",
      "float32\n"
     ]
    },
    {
     "data": {
      "text/plain": [
       "True"
      ]
     },
     "execution_count": 55,
     "metadata": {},
     "output_type": "execute_result"
    }
   ],
   "source": [
    "lane_labels_out = torch.rand((1,2,640,640))\n",
    "# h_idx,w_idx=\n",
    "_,h,w=np.where((torch.sigmoid(lane_labels_out[:,0,...]) > 0.8))\n",
    "print(h)\n",
    "\n",
    "# gray_label_img = lane_labels_out.permute(0,2,3,1)[...,1].numpy()\n",
    "gray_label_img = lane_labels_out.permute(0,2,3,1)[...,1].numpy()[0,...]\n",
    "\n",
    "gray_label_img = 255 * gray_label_img\n",
    "\n",
    "print(gray_label_img.dtype)\n",
    "\n",
    "cv2.imwrite('./pre_gray_label_img.png',gray_label_img)"
   ]
  },
  {
   "cell_type": "code",
   "execution_count": 4,
   "metadata": {},
   "outputs": [
    {
     "name": "stdout",
     "output_type": "stream",
     "text": [
      "coco/train2017.txt\n"
     ]
    }
   ],
   "source": [
    "from pathlib import Path\n",
    "import glob\n",
    "path = 'coco/train2017.txt'\n",
    "\n",
    "f = []  # image files\n",
    "for p in path if isinstance(path, list) else [path]:\n",
    "    p = Path(p)  # os-agnostic\n",
    "    print(p)\n",
    "    if p.is_dir():  # dir\n",
    "        f += glob.glob(str(p / '**' / '*.*'), recursive=True)\n",
    "        # f = list(p.rglob('**/*.*'))  # pathlib\n",
    "    # else p.is_file():  # file\n",
    "    #     with open(p, 'r') as t:\n",
    "    #         t = t.read().strip().splitlines()\n",
    "    #         parent = str(p.parent) + os.sep\n",
    "    #         f += [x.replace('./', parent) if x.startswith('./') else x for x in t]  # local to global path\n",
    "    #         # f += [p.parent / x.lstrip(os.sep) for x in t]  # local to global path (pathlib)"
   ]
  },
  {
   "cell_type": "code",
   "execution_count": null,
   "metadata": {},
   "outputs": [],
   "source": []
  }
 ],
 "metadata": {
  "interpreter": {
   "hash": "9d70f5100987b074e8dc9eb4f3c7c457ea9ecb9ceb169ecfd193f7306709dc87"
  },
  "kernelspec": {
   "display_name": "Python 3.7.6 ('base')",
   "language": "python",
   "name": "python3"
  },
  "language_info": {
   "codemirror_mode": {
    "name": "ipython",
    "version": 3
   },
   "file_extension": ".py",
   "mimetype": "text/x-python",
   "name": "python",
   "nbconvert_exporter": "python",
   "pygments_lexer": "ipython3",
   "version": "3.7.6"
  },
  "orig_nbformat": 4
 },
 "nbformat": 4,
 "nbformat_minor": 2
}
